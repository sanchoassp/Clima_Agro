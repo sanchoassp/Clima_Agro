{
 "cells": [
  {
   "cell_type": "code",
   "execution_count": 1,
   "id": "f6c10bc0",
   "metadata": {},
   "outputs": [],
   "source": [
    "# Bibliotecas\n",
    "import pandas as pd\n",
    "from pandas import json_normalize\n",
    "import numpy as np\n",
    "import io\n",
    "import requests\n",
    "import json\n",
    "import datetime\n",
    "import scipy.stats as stats\n",
    "from datetime import datetime\n",
    "import time\n",
    "\n",
    "import os\n",
    "\n",
    "#from google.cloud import bigquery\n",
    "#from google.oauth2 import service_account\n",
    "#import pandas_gbq\n",
    "import pyarrow\n",
    "\n",
    "import matplotlib.pyplot as plt\n",
    "import seaborn           as sns\n",
    "\n",
    "#import fathon\n",
    "#from numpy.matlib import repmat\n",
    "#from fathon import fathonUtils as fu"
   ]
  },
  {
   "cell_type": "code",
   "execution_count": 30,
   "id": "27c63e7d",
   "metadata": {},
   "outputs": [],
   "source": [
    "class agro:\n",
    "    \n",
    "    def __init__(self, tickers: \"list of tickers\", init_date: \"initial date\",\n",
    "                 end_date: \"end date\", freq_time: str, index: int, climate_var: str,\n",
    "                 state: str):\n",
    "        # Inicialmente passo as variáveis para uma self.\n",
    "        self.tickers = tickers # lista com os nomes das ações\n",
    "        self.init_date = init_date\n",
    "        self.freq_time = freq_time\n",
    "        self.end_date = end_date\n",
    "        self.index = index # índice que será usado\n",
    "        self.climate_var = climate_var\n",
    "        self.state = state\n",
    "        \n",
    "    def plot_agro(self):\n",
    "\n",
    "        clima = pd.read_parquet('.\\\\raw_data\\\\clima_Agro.parquet', engine='pyarrow')\n",
    "        clima = clima.drop_duplicates(['Date', 'RegionID'])\n",
    "        clima.reset_index(drop = True, inplace = True)\n",
    "        clima = clima.rename(columns={'Date': 'time'})\n",
    "        clima = clima.rename(columns={'RegionID': 'CD_MUN'})\n",
    "        clima['time'] = pd.to_datetime(clima['time'], format='%Y-%m-%d')\n",
    "        \n",
    "        depara = pd.read_csv('.\\\\raw_data\\\\de_para_IBGE.csv')\n",
    "        depara['CD_MUN'] = depara['CD_MUN'].astype(str)\n",
    "        \n",
    "        #clima = clima[['time', self.climate_var]]\n",
    "        \n",
    "        clima = pd.merge(clima, depara, on='CD_MUN', how='left')\n",
    "        \n",
    "        clima['total_precipitation'] = clima['total_precipitation'].astype(float)\n",
    "        clima = clima[clima.SIGLA_UF == self.state]\n",
    "        \n",
    "        clima = clima.groupby(['SIGLA_UF', 'time']).agg(media = (self.climate_var, 'mean'))\n",
    "        clima.reset_index(drop = False, inplace = True)\n",
    "        clima = clima.rename(columns={'media': self.climate_var})\n",
    "        \n",
    "\n",
    "        names = pd.read_csv('.\\\\raw_data\\\\portfolio.csv') # ler o arquivo em csv\n",
    "        names = pd.Series(names.stock_id.values,index=names.ticker).to_dict()\n",
    "\n",
    "        cod = []\n",
    "        for i in self.tickers:\n",
    "            i = '$'+i\n",
    "            cod.append([value for key, value in names.items() if key == i][0])\n",
    "\n",
    "        url = ('https://stocks.tradersclub.com.br/stockschart/v1/history_quotes?stock='\n",
    "               + str(cod[0]) +'&group='+ self.freq_time + \n",
    "               '&start='+ self.init_date + '&end=' + self.end_date)\n",
    "\n",
    "        #return print(url)\n",
    "\n",
    "        # credenciais de acesso a API\n",
    "        headers = {\"Authorization\": f\"ml_prod:4a1fc619-1993-42f3-adf4-123c0a72b3ee\"}\n",
    "\n",
    "        response = requests.request(\n",
    "                            \"GET\", \n",
    "                            url,\n",
    "                            headers=headers)\n",
    "\n",
    "        # O request tem como saída um dicionário\n",
    "        json_dict= json.loads(response.text)\n",
    "\n",
    "        # Aqui trasformo o dicionário em um pandas Dataframe\n",
    "        ticker = pd.DataFrame.from_dict(json_dict[\"Quotes\"])\n",
    "\n",
    "        # Pego apenas duas colunas. A coluna de time com a data e coulna do índice de interesse.\n",
    "        cols_to_keep = ['time', self.index]\n",
    "        ticker = ticker[cols_to_keep]\n",
    "        # renomeio a coluna colocando o nome da ação como sufixo\n",
    "        ticker = ticker.rename(columns={self.index: self.tickers[0]})\n",
    "        ticker['time'] = pd.to_datetime(ticker['time'], format='%Y-%m-%d', utc=True)\n",
    "        ticker['time'] = ticker['time'].dt.strftime('%Y-%m-%d')\n",
    "        ticker['time'] = pd.to_datetime(ticker['time'], format='%Y-%m-%d')\n",
    "        \n",
    "        full = pd.merge(ticker, clima, on='time', how='left')\n",
    "        \n",
    "        full[self.tickers[0]] = full[self.tickers[0]].shift(5)\n",
    "        \n",
    "        from sklearn.preprocessing import MinMaxScaler\n",
    "        full[self.tickers[0]] = MinMaxScaler().fit_transform(np.array(full[self.tickers[0]]).reshape(-1,1))\n",
    "        full[self.climate_var] = MinMaxScaler().fit_transform(np.array(full[self.climate_var]).reshape(-1,1))\n",
    "\n",
    "        return full\n",
    "    "
   ]
  },
  {
   "cell_type": "code",
   "execution_count": null,
   "id": "0dea5082",
   "metadata": {},
   "outputs": [],
   "source": [
    "ag = agro(tickers = ['PETR4'], \n",
    "                     init_date = '2019-01-01', # '%Y-%m-%d'\n",
    "                     end_date = '2020-12-31', # '%Y-%m-%d'\n",
    "                     freq_time = '1d', # 1m, 5m, 15m, 30m, 1h, 1d, 1w, 30d\n",
    "                     index = 'Close',\n",
    "                     climate_var = 'total_precipitation',\n",
    "                     state = 'SP'\n",
    "         ) # Low, High, Open e Close\n",
    "df = ag.plot_agro()"
   ]
  },
  {
   "cell_type": "code",
   "execution_count": null,
   "id": "be47b650",
   "metadata": {},
   "outputs": [],
   "source": [
    "df.head(39)"
   ]
  },
  {
   "cell_type": "code",
   "execution_count": 173,
   "id": "657b6003",
   "metadata": {},
   "outputs": [
    {
     "data": {
      "image/png": "[encoded data removed]",
      "text/plain": [
       "<Figure size 432x288 with 1 Axes>"
      ]
     },
     "metadata": {
      "needs_background": "light"
     },
     "output_type": "display_data"
    }
   ],
   "source": [
    "plt.plot(df.time, df.total_precipitation, df.time, df.PETR4)\n",
    "plt.show()"
   ]
  },
  {
   "cell_type": "code",
   "execution_count": 175,
   "id": "bf9eceae",
   "metadata": {},
   "outputs": [
    {
     "data": {
      "text/plain": [
       "497"
      ]
     },
     "execution_count": 175,
     "metadata": {},
     "output_type": "execute_result"
    }
   ],
   "source": [
    "len(df)"
   ]
  },
  {
   "cell_type": "code",
   "execution_count": 179,
   "id": "ef5b8225",
   "metadata": {},
   "outputs": [],
   "source": [
    "clima = pd.read_parquet('.\\\\raw_data\\\\clima_Agro.parquet', engine='pyarrow')\n",
    "#clima = clima.drop_duplicates(['Date'])\n",
    "#clima.reset_index(drop = True, inplace = True)\n",
    "#clima = clima.rename(columns={'Date': 'time'})\n",
    "#clima['time'] = pd.to_datetime(clima['time'], format='%Y-%m-%d')\n",
    "        \n",
    "#clima = clima[['time', self.climate_var]]"
   ]
  },
  {
   "cell_type": "code",
   "execution_count": 180,
   "id": "9874608e",
   "metadata": {},
   "outputs": [
    {
     "data": {
      "text/plain": [
       "4071670"
      ]
     },
     "execution_count": 180,
     "metadata": {},
     "output_type": "execute_result"
    }
   ],
   "source": [
    "len(clima)"
   ]
  },
  {
   "cell_type": "code",
   "execution_count": 181,
   "id": "5cb06d17",
   "metadata": {},
   "outputs": [
    {
     "data": {
      "text/html": [
       "<div>\n",
       "<style scoped>\n",
       "    .dataframe tbody tr th:only-of-type {\n",
       "        vertical-align: middle;\n",
       "    }\n",
       "\n",
       "    .dataframe tbody tr th {\n",
       "        vertical-align: top;\n",
       "    }\n",
       "\n",
       "    .dataframe thead th {\n",
       "        text-align: right;\n",
       "    }\n",
       "</style>\n",
       "<table border=\"1\" class=\"dataframe\">\n",
       "  <thead>\n",
       "    <tr style=\"text-align: right;\">\n",
       "      <th></th>\n",
       "      <th>Date</th>\n",
       "      <th>RegionID</th>\n",
       "      <th>dewpoint_temperature_2m</th>\n",
       "      <th>max_temperature_2m</th>\n",
       "      <th>min_temperature_2m</th>\n",
       "      <th>temperature_2m</th>\n",
       "      <th>humidity</th>\n",
       "      <th>surface_pressure</th>\n",
       "      <th>total_precipitation</th>\n",
       "      <th>u_component_of_wind_10m</th>\n",
       "      <th>v_component_of_wind_10m</th>\n",
       "    </tr>\n",
       "  </thead>\n",
       "  <tbody>\n",
       "    <tr>\n",
       "      <th>0</th>\n",
       "      <td>2019-01-01</td>\n",
       "      <td>1100130</td>\n",
       "      <td>296.36707863443314</td>\n",
       "      <td>302.49098364526117</td>\n",
       "      <td>295.08589025029346</td>\n",
       "      <td>297.8721410270602</td>\n",
       "      <td>91.35385607173502</td>\n",
       "      <td>99597.0182225474</td>\n",
       "      <td>0.09543030610766196</td>\n",
       "      <td>-0.2394271555568101</td>\n",
       "      <td>-0.5080213875124306</td>\n",
       "    </tr>\n",
       "    <tr>\n",
       "      <th>1</th>\n",
       "      <td>2019-01-01</td>\n",
       "      <td>1100205</td>\n",
       "      <td>296.6726113961178</td>\n",
       "      <td>302.00172638040584</td>\n",
       "      <td>295.93045275903546</td>\n",
       "      <td>298.0167326973315</td>\n",
       "      <td>92.25408195647613</td>\n",
       "      <td>99777.73470278824</td>\n",
       "      <td>0.10654724487368478</td>\n",
       "      <td>-0.09217174953431655</td>\n",
       "      <td>-0.5229376537895981</td>\n",
       "    </tr>\n",
       "    <tr>\n",
       "      <th>2</th>\n",
       "      <td>2019-01-01</td>\n",
       "      <td>1100403</td>\n",
       "      <td>296.4707929418539</td>\n",
       "      <td>302.12087764058793</td>\n",
       "      <td>295.88730202581667</td>\n",
       "      <td>297.91544719894324</td>\n",
       "      <td>91.69041662372214</td>\n",
       "      <td>99600.77291905036</td>\n",
       "      <td>0.06959664951961031</td>\n",
       "      <td>-0.13135332280259074</td>\n",
       "      <td>-0.5357115927300603</td>\n",
       "    </tr>\n",
       "  </tbody>\n",
       "</table>\n",
       "</div>"
      ],
      "text/plain": [
       "         Date RegionID dewpoint_temperature_2m  max_temperature_2m  \\\n",
       "0  2019-01-01  1100130      296.36707863443314  302.49098364526117   \n",
       "1  2019-01-01  1100205       296.6726113961178  302.00172638040584   \n",
       "2  2019-01-01  1100403       296.4707929418539  302.12087764058793   \n",
       "\n",
       "   min_temperature_2m      temperature_2m           humidity  \\\n",
       "0  295.08589025029346   297.8721410270602  91.35385607173502   \n",
       "1  295.93045275903546   298.0167326973315  92.25408195647613   \n",
       "2  295.88730202581667  297.91544719894324  91.69041662372214   \n",
       "\n",
       "    surface_pressure  total_precipitation u_component_of_wind_10m  \\\n",
       "0   99597.0182225474  0.09543030610766196     -0.2394271555568101   \n",
       "1  99777.73470278824  0.10654724487368478    -0.09217174953431655   \n",
       "2  99600.77291905036  0.06959664951961031    -0.13135332280259074   \n",
       "\n",
       "  v_component_of_wind_10m  \n",
       "0     -0.5080213875124306  \n",
       "1     -0.5229376537895981  \n",
       "2     -0.5357115927300603  "
      ]
     },
     "execution_count": 181,
     "metadata": {},
     "output_type": "execute_result"
    }
   ],
   "source": [
    "clima.head(3)"
   ]
  },
  {
   "cell_type": "code",
   "execution_count": 2,
   "id": "46465dfa",
   "metadata": {},
   "outputs": [
    {
     "name": "stdout",
     "output_type": "stream",
     "text": [
      " O volume na unidade C é OS\n",
      " O Número de Série do Volume é DAF4-E719\n",
      "\n",
      " Pasta de C:\\Users\\aureliano.paiva_tc\\Documents\\GitHub\\Clima_Agro\n",
      "\n",
      "23/03/2022  07:10    <DIR>          .\n",
      "23/03/2022  07:10    <DIR>          ..\n",
      "22/03/2022  16:08               379 .gitignore\n",
      "22/03/2022  16:06    <DIR>          .ipynb_checkpoints\n",
      "23/03/2022  07:10            60.455 Clima_Agro.ipynb\n",
      "20/03/2022  09:14             1.094 LICENSE\n",
      "23/03/2022  09:16    <DIR>          raw_data\n",
      "20/03/2022  09:14                12 README.md\n",
      "22/03/2022  16:29            12.567 transform_csv_to_parquet.ipynb\n",
      "               5 arquivo(s)         74.507 bytes\n",
      "               4 pasta(s)   119.768.215.552 bytes disponíveis\n"
     ]
    }
   ],
   "source": [
    "ls"
   ]
  },
  {
   "cell_type": "code",
   "execution_count": 20,
   "id": "63d5dcb1",
   "metadata": {},
   "outputs": [],
   "source": [
    "clima = pd.read_parquet('.\\\\raw_data\\\\clima_Agro.parquet', engine='pyarrow')\n",
    "clima = clima.drop_duplicates(['Date', 'RegionID'])\n",
    "clima.reset_index(drop = True, inplace = True)\n",
    "clima = clima.rename(columns={'Date': 'time'})\n",
    "clima = clima.rename(columns={'RegionID': 'CD_MUN'})\n",
    "clima['time'] = pd.to_datetime(clima['time'], format='%Y-%m-%d')\n",
    "        \n",
    "depara = pd.read_csv('.\\\\raw_data\\\\de_para_IBGE.csv')\n",
    "depara['CD_MUN'] = depara['CD_MUN'].astype(str)"
   ]
  },
  {
   "cell_type": "code",
   "execution_count": 21,
   "id": "0f07b800",
   "metadata": {},
   "outputs": [],
   "source": [
    "clima = pd.merge(clima, depara, on='CD_MUN', how='left')"
   ]
  },
  {
   "cell_type": "code",
   "execution_count": 24,
   "id": "c7773151",
   "metadata": {},
   "outputs": [
    {
     "name": "stdout",
     "output_type": "stream",
     "text": [
      "<class 'pandas.core.frame.DataFrame'>\n",
      "Int64Index: 4071670 entries, 0 to 4071669\n",
      "Data columns (total 13 columns):\n",
      " #   Column                   Dtype         \n",
      "---  ------                   -----         \n",
      " 0   time                     datetime64[ns]\n",
      " 1   CD_MUN                   object        \n",
      " 2   dewpoint_temperature_2m  object        \n",
      " 3   max_temperature_2m       object        \n",
      " 4   min_temperature_2m       object        \n",
      " 5   temperature_2m           object        \n",
      " 6   humidity                 object        \n",
      " 7   surface_pressure         object        \n",
      " 8   total_precipitation      object        \n",
      " 9   u_component_of_wind_10m  object        \n",
      " 10  v_component_of_wind_10m  object        \n",
      " 11  NM_MUN                   object        \n",
      " 12  SIGLA_UF                 object        \n",
      "dtypes: datetime64[ns](1), object(12)\n",
      "memory usage: 434.9+ MB\n"
     ]
    }
   ],
   "source": [
    "clima.info()"
   ]
  },
  {
   "cell_type": "code",
   "execution_count": 28,
   "id": "b2e5b43e",
   "metadata": {},
   "outputs": [],
   "source": [
    "#clima = clima[['time', self.climate_var]]\n",
    "        \n",
    "\n",
    "#clima['total_precipitation'] = clima['total_precipitation'].astype(float)        \n",
    "#clima = clima[clima.SIGLA_UF == 'SP']\n",
    "        \n",
    "clima2 = clima.groupby(['SIGLA_UF', 'time']).agg(media = ('total_precipitation', 'mean'))\n",
    "clima2.reset_index(drop = False, inplace = True)\n",
    "clima2 = clima2.rename(columns={'media': 'total_precipitation'})"
   ]
  },
  {
   "cell_type": "code",
   "execution_count": 29,
   "id": "8b9b4782",
   "metadata": {},
   "outputs": [
    {
     "data": {
      "text/html": [
       "<div>\n",
       "<style scoped>\n",
       "    .dataframe tbody tr th:only-of-type {\n",
       "        vertical-align: middle;\n",
       "    }\n",
       "\n",
       "    .dataframe tbody tr th {\n",
       "        vertical-align: top;\n",
       "    }\n",
       "\n",
       "    .dataframe thead th {\n",
       "        text-align: right;\n",
       "    }\n",
       "</style>\n",
       "<table border=\"1\" class=\"dataframe\">\n",
       "  <thead>\n",
       "    <tr style=\"text-align: right;\">\n",
       "      <th></th>\n",
       "      <th>SIGLA_UF</th>\n",
       "      <th>time</th>\n",
       "      <th>total_precipitation</th>\n",
       "    </tr>\n",
       "  </thead>\n",
       "  <tbody>\n",
       "    <tr>\n",
       "      <th>0</th>\n",
       "      <td>SP</td>\n",
       "      <td>2019-01-01</td>\n",
       "      <td>0.014798</td>\n",
       "    </tr>\n",
       "    <tr>\n",
       "      <th>1</th>\n",
       "      <td>SP</td>\n",
       "      <td>2019-01-02</td>\n",
       "      <td>0.022551</td>\n",
       "    </tr>\n",
       "    <tr>\n",
       "      <th>2</th>\n",
       "      <td>SP</td>\n",
       "      <td>2019-01-03</td>\n",
       "      <td>0.023090</td>\n",
       "    </tr>\n",
       "    <tr>\n",
       "      <th>3</th>\n",
       "      <td>SP</td>\n",
       "      <td>2019-01-04</td>\n",
       "      <td>0.101788</td>\n",
       "    </tr>\n",
       "    <tr>\n",
       "      <th>4</th>\n",
       "      <td>SP</td>\n",
       "      <td>2019-01-05</td>\n",
       "      <td>0.311368</td>\n",
       "    </tr>\n",
       "    <tr>\n",
       "      <th>...</th>\n",
       "      <td>...</td>\n",
       "      <td>...</td>\n",
       "      <td>...</td>\n",
       "    </tr>\n",
       "    <tr>\n",
       "      <th>726</th>\n",
       "      <td>SP</td>\n",
       "      <td>2020-12-27</td>\n",
       "      <td>0.108358</td>\n",
       "    </tr>\n",
       "    <tr>\n",
       "      <th>727</th>\n",
       "      <td>SP</td>\n",
       "      <td>2020-12-28</td>\n",
       "      <td>0.164435</td>\n",
       "    </tr>\n",
       "    <tr>\n",
       "      <th>728</th>\n",
       "      <td>SP</td>\n",
       "      <td>2020-12-29</td>\n",
       "      <td>0.062261</td>\n",
       "    </tr>\n",
       "    <tr>\n",
       "      <th>729</th>\n",
       "      <td>SP</td>\n",
       "      <td>2020-12-30</td>\n",
       "      <td>0.068421</td>\n",
       "    </tr>\n",
       "    <tr>\n",
       "      <th>730</th>\n",
       "      <td>SP</td>\n",
       "      <td>2020-12-31</td>\n",
       "      <td>0.053441</td>\n",
       "    </tr>\n",
       "  </tbody>\n",
       "</table>\n",
       "<p>731 rows × 3 columns</p>\n",
       "</div>"
      ],
      "text/plain": [
       "    SIGLA_UF       time  total_precipitation\n",
       "0         SP 2019-01-01             0.014798\n",
       "1         SP 2019-01-02             0.022551\n",
       "2         SP 2019-01-03             0.023090\n",
       "3         SP 2019-01-04             0.101788\n",
       "4         SP 2019-01-05             0.311368\n",
       "..       ...        ...                  ...\n",
       "726       SP 2020-12-27             0.108358\n",
       "727       SP 2020-12-28             0.164435\n",
       "728       SP 2020-12-29             0.062261\n",
       "729       SP 2020-12-30             0.068421\n",
       "730       SP 2020-12-31             0.053441\n",
       "\n",
       "[731 rows x 3 columns]"
      ]
     },
     "execution_count": 29,
     "metadata": {},
     "output_type": "execute_result"
    }
   ],
   "source": [
    "clima2"
   ]
  },
  {
   "cell_type": "code",
   "execution_count": null,
   "id": "a49db8a8",
   "metadata": {},
   "outputs": [],
   "source": []
  }
 ],
 "metadata": {
  "kernelspec": {
   "display_name": "Python 3 (ipykernel)",
   "language": "python",
   "name": "python3"
  },
  "language_info": {
   "codemirror_mode": {
    "name": "ipython",
    "version": 3
   },
   "file_extension": ".py",
   "mimetype": "text/x-python",
   "name": "python",
   "nbconvert_exporter": "python",
   "pygments_lexer": "ipython3",
   "version": "3.9.7"
  }
 },
 "nbformat": 4,
 "nbformat_minor": 5
}
