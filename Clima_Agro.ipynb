{
 "cells": [
  {
   "cell_type": "code",
   "execution_count": 1,
   "id": "f6c10bc0",
   "metadata": {},
   "outputs": [],
   "source": [
    "import pandas        as pd\n",
    "import numpy         as np\n",
    "\n",
    "import matplotlib.pyplot as plt\n",
    "import seaborn           as sns"
   ]
  },
  {
   "cell_type": "code",
   "execution_count": 2,
   "id": "5de5d92d",
   "metadata": {},
   "outputs": [],
   "source": [
    "clima = pd.read_parquet('/Users/aurelianosancho/Documents/Agro/clima_Agro.parquet', engine='pyarrow')\n",
    "clima = clima.drop_duplicates([\"Date\"])"
   ]
  },
  {
   "cell_type": "code",
   "execution_count": 3,
   "id": "8798239f",
   "metadata": {},
   "outputs": [
    {
     "data": {
      "text/html": [
       "<div>\n",
       "<style scoped>\n",
       "    .dataframe tbody tr th:only-of-type {\n",
       "        vertical-align: middle;\n",
       "    }\n",
       "\n",
       "    .dataframe tbody tr th {\n",
       "        vertical-align: top;\n",
       "    }\n",
       "\n",
       "    .dataframe thead th {\n",
       "        text-align: right;\n",
       "    }\n",
       "</style>\n",
       "<table border=\"1\" class=\"dataframe\">\n",
       "  <thead>\n",
       "    <tr style=\"text-align: right;\">\n",
       "      <th></th>\n",
       "      <th>Date</th>\n",
       "      <th>RegionID</th>\n",
       "      <th>dewpoint_temperature_2m</th>\n",
       "      <th>max_temperature_2m</th>\n",
       "      <th>min_temperature_2m</th>\n",
       "      <th>temperature_2m</th>\n",
       "      <th>humidity</th>\n",
       "      <th>surface_pressure</th>\n",
       "      <th>total_precipitation</th>\n",
       "      <th>u_component_of_wind_10m</th>\n",
       "      <th>v_component_of_wind_10m</th>\n",
       "    </tr>\n",
       "  </thead>\n",
       "  <tbody>\n",
       "    <tr>\n",
       "      <th>0</th>\n",
       "      <td>2015-01-01</td>\n",
       "      <td>1100130</td>\n",
       "      <td>296.547072303263</td>\n",
       "      <td>304.2451299517846</td>\n",
       "      <td>296.6058847303008</td>\n",
       "      <td>299.3991562150645</td>\n",
       "      <td>84.34312620577637</td>\n",
       "      <td>99502.99053036416</td>\n",
       "      <td>0.05159416726036622</td>\n",
       "      <td>0.05000344746810352</td>\n",
       "      <td>-1.13460818997119</td>\n",
       "    </tr>\n",
       "    <tr>\n",
       "      <th>1</th>\n",
       "      <td>2015-01-01</td>\n",
       "      <td>1100205</td>\n",
       "      <td>296.75486460430403</td>\n",
       "      <td>303.4070397024061</td>\n",
       "      <td>296.4997753030794</td>\n",
       "      <td>299.03572449434046</td>\n",
       "      <td>87.26235160930503</td>\n",
       "      <td>99689.96080705665</td>\n",
       "      <td>0.0275239284449808</td>\n",
       "      <td>0.11688899210234413</td>\n",
       "      <td>-1.1804117958454605</td>\n",
       "    </tr>\n",
       "    <tr>\n",
       "      <th>2</th>\n",
       "      <td>2015-01-01</td>\n",
       "      <td>1100403</td>\n",
       "      <td>296.44428074847025</td>\n",
       "      <td>303.6416563826397</td>\n",
       "      <td>296.4401235938969</td>\n",
       "      <td>299.13535022267956</td>\n",
       "      <td>85.13912488000635</td>\n",
       "      <td>99500.52946351953</td>\n",
       "      <td>0.027933545470415863</td>\n",
       "      <td>0.30569423277731156</td>\n",
       "      <td>-1.3830371344155754</td>\n",
       "    </tr>\n",
       "  </tbody>\n",
       "</table>\n",
       "</div>"
      ],
      "text/plain": [
       "         Date RegionID dewpoint_temperature_2m max_temperature_2m  \\\n",
       "0  2015-01-01  1100130        296.547072303263  304.2451299517846   \n",
       "1  2015-01-01  1100205      296.75486460430403  303.4070397024061   \n",
       "2  2015-01-01  1100403      296.44428074847025  303.6416563826397   \n",
       "\n",
       "  min_temperature_2m      temperature_2m           humidity  \\\n",
       "0  296.6058847303008   299.3991562150645  84.34312620577637   \n",
       "1  296.4997753030794  299.03572449434046  87.26235160930503   \n",
       "2  296.4401235938969  299.13535022267956  85.13912488000635   \n",
       "\n",
       "    surface_pressure   total_precipitation u_component_of_wind_10m  \\\n",
       "0  99502.99053036416   0.05159416726036622     0.05000344746810352   \n",
       "1  99689.96080705665    0.0275239284449808     0.11688899210234413   \n",
       "2  99500.52946351953  0.027933545470415863     0.30569423277731156   \n",
       "\n",
       "  v_component_of_wind_10m  \n",
       "0       -1.13460818997119  \n",
       "1     -1.1804117958454605  \n",
       "2     -1.3830371344155754  "
      ]
     },
     "execution_count": 3,
     "metadata": {},
     "output_type": "execute_result"
    }
   ],
   "source": [
    "clima.head(3)"
   ]
  },
  {
   "cell_type": "code",
   "execution_count": null,
   "id": "be47b650",
   "metadata": {},
   "outputs": [],
   "source": []
  },
  {
   "cell_type": "code",
   "execution_count": null,
   "id": "58a2ba55",
   "metadata": {},
   "outputs": [],
   "source": []
  },
  {
   "cell_type": "code",
   "execution_count": null,
   "id": "d1f32892",
   "metadata": {},
   "outputs": [],
   "source": []
  }
 ],
 "metadata": {
  "kernelspec": {
   "display_name": "Python 3 (ipykernel)",
   "language": "python",
   "name": "python3"
  },
  "language_info": {
   "codemirror_mode": {
    "name": "ipython",
    "version": 3
   },
   "file_extension": ".py",
   "mimetype": "text/x-python",
   "name": "python",
   "nbconvert_exporter": "python",
   "pygments_lexer": "ipython3",
   "version": "3.9.7"
  }
 },
 "nbformat": 4,
 "nbformat_minor": 5
}
