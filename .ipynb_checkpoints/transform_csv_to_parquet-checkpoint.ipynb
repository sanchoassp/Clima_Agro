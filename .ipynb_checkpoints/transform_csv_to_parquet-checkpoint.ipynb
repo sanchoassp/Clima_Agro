{
 "cells": [
  {
   "cell_type": "code",
   "execution_count": null,
   "id": "354bc1e7",
   "metadata": {},
   "outputs": [],
   "source": [
    "import numpy                 as np\n",
    "import pandas                as pd\n",
    "import glob                  as g\n",
    "from   datetime              import date\n",
    "\n",
    "from pyspark.sql             import SparkSession\n",
    "from pyspark.sql.types       import StringType\n",
    "from pyspark.sql.types       import TimestampType\n",
    "from pyspark.sql             import SQLContext\n",
    "import pyspark.sql.functions as F\n",
    "from pyspark.sql.functions   import *\n",
    "from pyspark.sql             import Window\n",
    "from pyspark.sql.types       import *\n",
    "#from  pyspark.sql.functions import input_file_name\n",
    "\n",
    "spark = (\n",
    "    SparkSession\n",
    "        .builder.master('local[*]')\n",
    "        .appName('Churn')\n",
    "        .config('spark.driver.memory','2g') \n",
    "        .config('spark.executor.memory','2g')\n",
    "        .config(\"spark.sql.legacy.timeParserPolicy\", \"LEGACY\")\n",
    "        .config(\"spark.sql.execution.arrow.pyspark.enabled\", \"true\")\n",
    "        .config('spark.ui.showConsoleProgress', True)\n",
    "        .config(\"viewsEnabled\", \"true\")\n",
    "        .config(\"spark.sql.debug.maxToStringFields\", 1000)\n",
    "        .getOrCreate()\n",
    ")"
   ]
  },
  {
   "cell_type": "code",
   "execution_count": null,
   "id": "e94dcc1c",
   "metadata": {},
   "outputs": [],
   "source": [
    "customSchema = StructType([\n",
    "                           StructField(\"Index\", StringType(), True),\n",
    "                           StructField(\"Date\", DateType(), True), \n",
    "                           StructField(\"IBGE_ID\", StringType(), True),\n",
    "                           StructField(\"dewpoint_temperature\", DoubleType(), True), \n",
    "                           StructField(\"humidity\", DoubleType(), True),\n",
    "                           StructField(\"max_temperature\", DoubleType(), True), \n",
    "                           StructField(\"min_temperature\", DoubleType(), True),\n",
    "                           StructField(\"surface_pressure\", DoubleType(), True),\n",
    "                           StructField(\"temperature\", DoubleType(), True),\n",
    "                           StructField(\"total_precipitation\", DoubleType(), True), \n",
    "                           StructField(\"u_component_of_wind_10m\", DoubleType(), True),\n",
    "                           StructField(\"v_component_of_wind_10m\", DoubleType(), True),\n",
    "                           StructField(\"geo\", DoubleType(), True),\n",
    "                          ])"
   ]
  },
  {
   "cell_type": "code",
   "execution_count": null,
   "id": "9fa95eb9",
   "metadata": {},
   "outputs": [],
   "source": [
    "df = (spark.read.format(\"csv\") \n",
    "      .option(\"header\", \"True\") \n",
    "      #.schema(customSchema) \n",
    "      .load('C:\\\\Users\\\\aureliano.paiva_tc\\\\Documents\\\\Dados_Agro\\\\*.csv') \n",
    "      .withColumn(\"filename\", input_file_name())\n",
    "    )\n",
    "\n",
    "df = df.select(\n",
    "                'Date', 'RegionID', 'dewpoint_temperature_2m',\n",
    "                'max_temperature_2m', 'min_temperature_2m','temperature_2m',\n",
    "                'humidity',  'surface_pressure', 'total_precipitation',\n",
    "                'u_component_of_wind_10m', 'v_component_of_wind_10m', \n",
    "                )\n",
    "\n",
    "# df.drop_duplicates(subset=['Date']) # Não funciona"
   ]
  },
  {
   "cell_type": "code",
   "execution_count": null,
   "id": "42b8b9ed",
   "metadata": {},
   "outputs": [],
   "source": [
    "(\n",
    "    df.write.format(\"parquet\")\n",
    "    .mode(\"overwrite\")\n",
    "    .save(\"C:\\\\Users\\\\aureliano.paiva_tc\\\\Documents\\\\GitHub\\\\Clima_Agro\\\\raw_data\\\\clima_Agro.parquet\")\n",
    ")"
   ]
  },
  {
   "cell_type": "code",
   "execution_count": null,
   "id": "4148b6dc",
   "metadata": {},
   "outputs": [],
   "source": [
    "fim"
   ]
  }
 ],
 "metadata": {
  "kernelspec": {
   "display_name": "Python 3 (ipykernel)",
   "language": "python",
   "name": "python3"
  },
  "language_info": {
   "codemirror_mode": {
    "name": "ipython",
    "version": 3
   },
   "file_extension": ".py",
   "mimetype": "text/x-python",
   "name": "python",
   "nbconvert_exporter": "python",
   "pygments_lexer": "ipython3",
   "version": "3.9.7"
  }
 },
 "nbformat": 4,
 "nbformat_minor": 5
}
