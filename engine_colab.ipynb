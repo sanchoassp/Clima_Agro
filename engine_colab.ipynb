{
 "cells": [
  {
   "cell_type": "code",
   "execution_count": null,
   "metadata": {
    "id": "X5rdiSrhZUQd"
   },
   "outputs": [],
   "source": [
    "import numpy as np\n",
    "from io import StringIO\n",
    "import io"
   ]
  },
  {
   "cell_type": "code",
   "execution_count": null,
   "metadata": {
    "colab": {
     "base_uri": "https://localhost:8080/"
    },
    "id": "8n46IDSdZZZ2",
    "outputId": "fc74f7e7-d7af-42d9-d991-49e34296dcc8"
   },
   "outputs": [],
   "source": [
    "# Importando/Autenticando/Inicializando o API-GEE \n",
    "import ee #pip install earthengine-api\n",
    "#from StringIO import StringIO\n",
    "ee.Authenticate ()\n",
    "ee.Initialize ()"
   ]
  },
  {
   "cell_type": "code",
   "execution_count": null,
   "metadata": {
    "colab": {
     "base_uri": "https://localhost:8080/"
    },
    "id": "36Fg46ZOZeaX",
    "outputId": "e52e76ce-1a14-466c-d818-920d0e4a24a8"
   },
   "outputs": [],
   "source": [
    "#Autorizando o acesso ao Google Drive\n",
    "from google.colab import drive #conda install -c conda-forge google-colab\n",
    "drive.mount('/content/drive')"
   ]
  },
  {
   "cell_type": "code",
   "execution_count": null,
   "metadata": {
    "colab": {
     "base_uri": "https://localhost:8080/"
    },
    "id": "piGwGLM6Zm_K",
    "outputId": "266fa094-c3c0-4b09-fd99-7c463e74c8d2"
   },
   "outputs": [],
   "source": [
    "# Imprtando demais pacotes\n",
    "\n",
    "import os\n",
    "!pip install unidecode --quiet\n",
    "import unidecode #!pip install unidecode --quiet\n",
    "import glob\n",
    "import pandas as pd"
   ]
  },
  {
   "cell_type": "code",
   "execution_count": null,
   "metadata": {
    "id": "4ipGf7oZazP0"
   },
   "outputs": [],
   "source": [
    "def addHumidity(feature):\n",
    "  # dew point (TD), temperature (T) \n",
    "  T = ee.Number(feature.get('temperature_2m')).subtract(273.15)\n",
    "\n",
    "  TD = ee.Number(feature.get('dewpoint_temperature_2m')).subtract(273.15)\n",
    "\n",
    "  c = ee.Number(243.04)\n",
    "\n",
    "  b = ee.Number(17.625)\n",
    "\n",
    "  # FORMULA: 100*Math.exp(c*b*(TD-T)/((c+T)*(c+TD)))\n",
    "\n",
    "  return feature.set({'humidity': ee.Number(100).multiply((c.multiply(b).multiply(TD.subtract(T)).divide((c.add(T)).multiply(c.add(TD)))).exp())})  \n",
    "\n",
    "def renameBand(image, band, new_band):\n",
    "  return image.select ([band]).rename([new_band])"
   ]
  },
  {
   "cell_type": "code",
   "execution_count": null,
   "metadata": {
    "id": "Z5xZVZgCbFZH"
   },
   "outputs": [],
   "source": [
    "def getMetric(y, collection, startDate, func, vars):\n",
    "  start = ee.Date(startDate).advance(y, 'days')\n",
    "  end = start.advance (23,'hours')\n",
    "  \n",
    "  if func == 'mean':\n",
    "\t  return collection.select(vars).filter(ee.Filter.date(start, end)).mean().set('Date', ee.Date(startDate).advance(y,'days')).set('system:time_start', ee.Date(startDate).advance(y,'days'))\n",
    "\t\t                 \n",
    "  elif func == 'min':\n",
    "    return collection.select(vars).filter(ee.Filter.date(start, end)).min().set('Date', ee.Date(startDate).advance(y,'days')).set('system:time_start', ee.Date(startDate).advance(y,'days'))\n",
    "    \n",
    "  elif func == 'max':\n",
    "    return collection.select(vars).filter(ee.Filter.date(start, end)).max().set('Date', ee.Date(startDate).advance(y,'days')).set('system:time_start', ee.Date(startDate).advance(y,'days'))\n",
    "   \t\t\n",
    "  elif func == 'sum':\n",
    "    return collection.select(vars).filter(ee.Filter.date(start, end)).sum().set('Date', ee.Date(startDate).advance(y,'days')).set('system:time_start', ee.Date(startDate).advance(y,'days'))\n"
   ]
  },
  {
   "cell_type": "code",
   "execution_count": null,
   "metadata": {
    "id": "e6MuGHNNb8iV"
   },
   "outputs": [],
   "source": [
    "def concat_join (feature):\n",
    "  return ee.Image.cat(feature.get('primary'), feature.get('secondary'))"
   ]
  },
  {
   "cell_type": "code",
   "execution_count": null,
   "metadata": {
    "id": "DBj7IwN9cRE3"
   },
   "outputs": [],
   "source": [
    "def get_era5land(startDate, endDate):\n",
    "\n",
    "    # Difference between start and end in days \n",
    "\n",
    "    numberOfInstances = endDate.difference(ee.Date(startDate), 'day')\n",
    "\n",
    "    seqInstances = ee.List.sequence(0, numberOfInstances.subtract(1))\n",
    "\n",
    " \n",
    "\n",
    "    collection = ee.ImageCollection('ECMWF/ERA5_LAND/HOURLY')\n",
    "\n",
    "    vars = ee.List(['temperature_2m', 'dewpoint_temperature_2m', 'surface_pressure', 'u_component_of_wind_10m', 'v_component_of_wind_10m'])\n",
    "\n",
    " \n",
    "\n",
    "    era5_mean = ee.ImageCollection.fromImages(seqInstances.map(lambda y: getMetric(y, collection, startDate, 'mean', vars)))\n",
    "\n",
    " \n",
    "\n",
    "    era5_min = ee.ImageCollection.fromImages(seqInstances.map(lambda y: getMetric(y, collection, startDate, 'min', 'temperature_2m'))).map(lambda image: renameBand(image, 'temperature_2m', 'min_temperature_2m'))\n",
    "\n",
    " \n",
    "\n",
    "    era5_max = ee.ImageCollection.fromImages(seqInstances.map(lambda y: getMetric(y, collection, startDate, 'max', 'temperature_2m'))).map(lambda image: renameBand(image, 'temperature_2m', 'max_temperature_2m'))\n",
    "\n",
    " \n",
    "\n",
    "    era5_sum = ee.ImageCollection.fromImages(seqInstances.map(lambda y: getMetric(y, collection, startDate, 'sum', 'total_precipitation')))\n",
    "\n",
    " \n",
    "\n",
    "    # Define inner join\n",
    "\n",
    "    innerJoin = ee.Join.inner(primaryKey='primary', secondaryKey='secondary')\n",
    "\n",
    "    filterTimeEq = ee.Filter.equals(leftField='Date', rightField='Date')\n",
    "\n",
    " \n",
    "\n",
    "    join = innerJoin.apply(era5_mean, era5_min, filterTimeEq).map(concat_join)\n",
    "\n",
    "    mid_join = innerJoin.apply(join, era5_max, filterTimeEq).map(concat_join)\n",
    "\n",
    "    era5_land = innerJoin.apply(mid_join, era5_sum, filterTimeEq).map(concat_join)\n",
    "\n",
    "    return era5_land"
   ]
  },
  {
   "cell_type": "code",
   "execution_count": null,
   "metadata": {
    "id": "gDY6l98uZ4N9"
   },
   "outputs": [],
   "source": [
    "def featurize(feature, image):\n",
    "\n",
    "    dict = {'RegionID': feature.get('RegionID'),\n",
    "\n",
    "            'Date': ee.Date(image.get('system:time_start')).format('yyyy-MM-dd')}\n",
    "\n",
    " \n",
    "\n",
    "    properties = ['temperature_2m', 'min_temperature_2m', 'max_temperature_2m', 'dewpoint_temperature_2m',\n",
    "\n",
    "                  'surface_pressure', 'u_component_of_wind_10m', 'v_component_of_wind_10m', 'total_precipitation']\n",
    "\n",
    "    for property in properties:\n",
    "\n",
    "        dict[property] = ee.List([feature.get(property), -999]).reduce(ee.Reducer.firstNonNull())\n",
    "\n",
    "    return ee.Feature(None, dict)\n",
    "\n",
    " \n",
    "\n",
    "def extract_var(image, geometries):\n",
    "\n",
    "    stats = ee.Image(image).reduceRegions(**{'collection': geometries, \"reducer\": ee.Reducer.mean(), 'scale': 9000})\n",
    "\n",
    "    return stats.map(lambda feature: featurize(feature, ee.Image(image)))\n",
    "\n",
    " \n",
    "\n",
    "def getGeo(feature):\n",
    "\n",
    "    return ee.Feature(feature.geometry(), {'RegionID': feature.get('CD_MUN')})"
   ]
  },
  {
   "cell_type": "markdown",
   "metadata": {
    "id": "e2mFdv12dP6P"
   },
   "source": [
    "# Seconda Part"
   ]
  },
  {
   "cell_type": "code",
   "execution_count": null,
   "metadata": {
    "id": "9ecySHyvdhL_"
   },
   "outputs": [],
   "source": [
    "startDate = ee.Date('2021-01-01')\n",
    "\n",
    "endDate = ee.Date('2022-01-01')\n",
    "\n",
    " \n",
    "\n",
    "# retrieve table with shapefiles info\n",
    "\n",
    "table = ee.FeatureCollection(\"projects/earthengine-legacy/assets/users/sanchobuendia/BR\")\n",
    "\n",
    " \n",
    "\n",
    "# extract list of regions by code\n",
    "\n",
    "regions = table.aggregate_array(\"CD_MUN\").distinct()"
   ]
  },
  {
   "cell_type": "code",
   "execution_count": null,
   "metadata": {
    "id": "GsqvBpSrePXY"
   },
   "outputs": [],
   "source": [
    "era5Land_daily = get_era5land(startDate, endDate)"
   ]
  },
  {
   "cell_type": "code",
   "execution_count": null,
   "metadata": {
    "id": "9_oE0UaHxqJI"
   },
   "outputs": [],
   "source": [
    "#print(era5Land_daily.getInfo())"
   ]
  },
  {
   "cell_type": "code",
   "execution_count": null,
   "metadata": {
    "colab": {
     "base_uri": "https://localhost:8080/"
    },
    "id": "sEVvZVDHf37W",
    "outputId": "4a9a494e-c198-474b-aecb-65253bb46010"
   },
   "outputs": [],
   "source": [
    "geometries = ee.FeatureCollection(table.map(getGeo)) #.filterMetadata('CD_MUN', 'starts_with', '1100130')\n",
    "\n",
    "print(geometries.size().getInfo()) # VER\n",
    "\n",
    "folderName = 'Brazil_2015_2021'\n",
    "\n",
    "os.makedirs(folderName, exist_ok=True)"
   ]
  },
  {
   "cell_type": "code",
   "execution_count": null,
   "metadata": {
    "id": "hfSd_iw2f3-c"
   },
   "outputs": [],
   "source": [
    "# daily stats from ERA5-Land\n",
    "\n",
    "era5LandStats = era5Land_daily.map(lambda image: extract_var(image, geometries)).flatten().map(addHumidity)"
   ]
  },
  {
   "cell_type": "code",
   "execution_count": null,
   "metadata": {
    "colab": {
     "base_uri": "https://localhost:8080/"
    },
    "id": "KBLARv92aDUb",
    "outputId": "ec0cde8f-5ac8-4a9d-82d7-1a328fe15764"
   },
   "outputs": [],
   "source": [
    "# Export timeseries to Google Drive\n",
    "\n",
    "task = ee.batch.Export.table.toDrive(**{\n",
    "\n",
    "        'collection': era5LandStats,\n",
    "\n",
    "        'description': 'ERA5land_daily_Brazil_2021',\n",
    "\n",
    "        'fileFormat': 'CSV',\n",
    "\n",
    "        'folder': folderName\n",
    "\n",
    "        })\n",
    "\n",
    " \n",
    "\n",
    "# run tasks automatically\n",
    "\n",
    "task.start()\n",
    "\n",
    "print(task.status())"
   ]
  },
  {
   "cell_type": "code",
   "execution_count": null,
   "metadata": {
    "id": "vqfzcj5ywqGY"
   },
   "outputs": [],
   "source": []
  }
 ],
 "metadata": {
  "colab": {
   "name": "Unicef.ipynb",
   "provenance": []
  },
  "kernelspec": {
   "display_name": "Python 3 (ipykernel)",
   "language": "python",
   "name": "python3"
  },
  "language_info": {
   "codemirror_mode": {
    "name": "ipython",
    "version": 3
   },
   "file_extension": ".py",
   "mimetype": "text/x-python",
   "name": "python",
   "nbconvert_exporter": "python",
   "pygments_lexer": "ipython3",
   "version": "3.9.7"
  }
 },
 "nbformat": 4,
 "nbformat_minor": 1
}
